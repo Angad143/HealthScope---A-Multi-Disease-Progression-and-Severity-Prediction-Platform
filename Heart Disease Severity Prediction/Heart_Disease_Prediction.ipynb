{
 "cells": [
  {
   "cell_type": "markdown",
   "metadata": {},
   "source": [
    "### **Project Title: Heart Disease Severity Prediction**  \n",
    "\n",
    "#### **Introduction**  \n",
    "Heart disease is a serious health issue that affects millions of people worldwide. Early detection and severity prediction can help in better treatment and prevention. This project aims to build a machine learning model that predicts the severity of heart disease based on different health factors.  \n",
    "\n",
    "#### **Project Overview**  \n",
    "The dataset used in this project is from Kaggle: [Heart Disease Dataset](https://www.kaggle.com/datasets/arezaei81/heartcsv). It contains various medical features like age, cholesterol, blood pressure, and more, which help determine heart disease severity. The project involves cleaning the data, performing analysis, and using classification models to make predictions.  \n",
    "\n",
    "#### **Objectives**  \n",
    "- Understand and analyze the dataset.  \n",
    "- Clean and preprocess the data.  \n",
    "- Apply different classification models for prediction.  \n",
    "- Compare model performance using accuracy.  \n",
    "- Deploy the best model for real-world usage."
   ]
  },
  {
   "cell_type": "markdown",
   "metadata": {},
   "source": [
    "### **Step 1: Import necessary libraries and load the dataset**"
   ]
  },
  {
   "cell_type": "code",
   "execution_count": 1,
   "metadata": {},
   "outputs": [
    {
     "name": "stdout",
     "output_type": "stream",
     "text": [
      "   age  sex  cp  trestbps  chol  fbs  restecg  thalach  exang  oldpeak  slope  \\\n",
      "0   63    1   3       145   233    1        0      150      0      2.3      0   \n",
      "1   37    1   2       130   250    0        1      187      0      3.5      0   \n",
      "2   41    0   1       130   204    0        0      172      0      1.4      2   \n",
      "3   56    1   1       120   236    0        1      178      0      0.8      2   \n",
      "4   57    0   0       120   354    0        1      163      1      0.6      2   \n",
      "\n",
      "   ca  thal  target  \n",
      "0   0     1       1  \n",
      "1   0     2       1  \n",
      "2   0     2       1  \n",
      "3   0     2       1  \n",
      "4   0     2       1  \n"
     ]
    }
   ],
   "source": [
    "# Import necessary libraries\n",
    "import pandas as pd\n",
    "import numpy as np\n",
    "import matplotlib.pyplot as plt\n",
    "import seaborn as sns\n",
    "\n",
    "# Load the dataset\n",
    "data = pd.read_csv(\"heart.csv\")\n",
    "\n",
    "# Display the first few rows\n",
    "print(data.head())"
   ]
  },
  {
   "cell_type": "code",
   "execution_count": null,
   "metadata": {},
   "outputs": [],
   "source": []
  }
 ],
 "metadata": {
  "kernelspec": {
   "display_name": "Python 3",
   "language": "python",
   "name": "python3"
  },
  "language_info": {
   "codemirror_mode": {
    "name": "ipython",
    "version": 3
   },
   "file_extension": ".py",
   "mimetype": "text/x-python",
   "name": "python",
   "nbconvert_exporter": "python",
   "pygments_lexer": "ipython3",
   "version": "3.11.9"
  }
 },
 "nbformat": 4,
 "nbformat_minor": 2
}
