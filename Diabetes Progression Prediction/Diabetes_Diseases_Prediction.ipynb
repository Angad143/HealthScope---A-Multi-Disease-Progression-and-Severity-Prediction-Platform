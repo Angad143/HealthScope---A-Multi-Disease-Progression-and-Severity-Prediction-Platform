{
 "cells": [
  {
   "cell_type": "markdown",
   "metadata": {},
   "source": [
    "## **Project Title: Diabetes Progression Prediction**  \n",
    "\n",
    "### **Introduction**  \n",
    "Diabetes is a chronic disease or serious health problem that affects many people around the world. If not detected early, it can cause severe health issues. In this project, we will build a machine learning or deep learning model to predict diabetes using [Early Stage Diabetes Risk Prediction Dataset](https://www.kaggle.com/datasets/ishandutta/early-stage-diabetes-risk-prediction-dataset). By analyzing different features like age, gender, and various symptoms like polyuria, polydipsia, and sudden weight loss, along with the target variable (Class: Positive/Negative), we can check if a person is at risk of diabetes.\n",
    "\n",
    "### **Overview**  \n",
    "This project involves an end-to-end machine learning pipeline, including Exploratory Data Analysis (EDA), feature engineering, model training, and evaluation. We will compare various machine learning techniques such as Logistic Regression, Neural Networks, Decision Trees, and Random Forests to determine the best-performing model. \n",
    "\n",
    "Here, are the short descriptions of each columns present in datasets:\n",
    "\n",
    "1. **Age** – Patient's age (20 to 65 years).  \n",
    "2. **Gender** – Male or Female.  \n",
    "3. **Polyuria** – Excessive urination (Yes/No).  \n",
    "4. **Polydipsia** – Excessive thirst (Yes/No).  \n",
    "5. **Sudden Weight Loss** – Rapid weight loss (Yes/No).  \n",
    "6. **Weakness** – Feeling of fatigue (Yes/No).  \n",
    "7. **Polyphagia** – Excessive hunger (Yes/No).  \n",
    "8. **Genital Thrush** – Fungal infection (Yes/No).  \n",
    "9. **Visual Blurring** – Blurred vision (Yes/No).  \n",
    "10. **Itching** – Skin irritation (Yes/No).  \n",
    "11. **Irritability** – Frequent mood swings (Yes/No).  \n",
    "12. **Delayed Healing** – Slow wound healing (Yes/No).  \n",
    "13. **Partial Paresis** – Muscle weakness (Yes/No).  \n",
    "14. **Muscle Stiffness** – Stiff or tight muscles (Yes/No).  \n",
    "15. **Alopecia** – Hair loss (Yes/No).  \n",
    "16. **Obesity** – Overweight condition (Yes/No).  \n",
    "17. **Class** – Target variable (Positive: Diabetic, Negative: Non-Diabetic).  \n",
    "\n",
    "### **Objectives**  \n",
    "This project aims to build a predictive model for diabetes progression using a \"Early Stage Diabetes Risk Prediction Dataset\". We will explore different machine learning algorithms, evaluate their performance, and identify the most effective model for accurate predictions."
   ]
  },
  {
   "cell_type": "markdown",
   "metadata": {},
   "source": [
    "### **Step 1: Import Necessary Libraries and Load the Datasets**"
   ]
  },
  {
   "cell_type": "code",
   "execution_count": 1,
   "metadata": {},
   "outputs": [
    {
     "data": {
      "text/html": [
       "<div>\n",
       "<style scoped>\n",
       "    .dataframe tbody tr th:only-of-type {\n",
       "        vertical-align: middle;\n",
       "    }\n",
       "\n",
       "    .dataframe tbody tr th {\n",
       "        vertical-align: top;\n",
       "    }\n",
       "\n",
       "    .dataframe thead th {\n",
       "        text-align: right;\n",
       "    }\n",
       "</style>\n",
       "<table border=\"1\" class=\"dataframe\">\n",
       "  <thead>\n",
       "    <tr style=\"text-align: right;\">\n",
       "      <th></th>\n",
       "      <th>Age</th>\n",
       "      <th>Gender</th>\n",
       "      <th>Polyuria</th>\n",
       "      <th>Polydipsia</th>\n",
       "      <th>sudden weight loss</th>\n",
       "      <th>weakness</th>\n",
       "      <th>Polyphagia</th>\n",
       "      <th>Genital thrush</th>\n",
       "      <th>visual blurring</th>\n",
       "      <th>Itching</th>\n",
       "      <th>Irritability</th>\n",
       "      <th>delayed healing</th>\n",
       "      <th>partial paresis</th>\n",
       "      <th>muscle stiffness</th>\n",
       "      <th>Alopecia</th>\n",
       "      <th>Obesity</th>\n",
       "      <th>class</th>\n",
       "    </tr>\n",
       "  </thead>\n",
       "  <tbody>\n",
       "    <tr>\n",
       "      <th>0</th>\n",
       "      <td>40</td>\n",
       "      <td>Male</td>\n",
       "      <td>No</td>\n",
       "      <td>Yes</td>\n",
       "      <td>No</td>\n",
       "      <td>Yes</td>\n",
       "      <td>No</td>\n",
       "      <td>No</td>\n",
       "      <td>No</td>\n",
       "      <td>Yes</td>\n",
       "      <td>No</td>\n",
       "      <td>Yes</td>\n",
       "      <td>No</td>\n",
       "      <td>Yes</td>\n",
       "      <td>Yes</td>\n",
       "      <td>Yes</td>\n",
       "      <td>Positive</td>\n",
       "    </tr>\n",
       "    <tr>\n",
       "      <th>1</th>\n",
       "      <td>58</td>\n",
       "      <td>Male</td>\n",
       "      <td>No</td>\n",
       "      <td>No</td>\n",
       "      <td>No</td>\n",
       "      <td>Yes</td>\n",
       "      <td>No</td>\n",
       "      <td>No</td>\n",
       "      <td>Yes</td>\n",
       "      <td>No</td>\n",
       "      <td>No</td>\n",
       "      <td>No</td>\n",
       "      <td>Yes</td>\n",
       "      <td>No</td>\n",
       "      <td>Yes</td>\n",
       "      <td>No</td>\n",
       "      <td>Positive</td>\n",
       "    </tr>\n",
       "    <tr>\n",
       "      <th>2</th>\n",
       "      <td>41</td>\n",
       "      <td>Male</td>\n",
       "      <td>Yes</td>\n",
       "      <td>No</td>\n",
       "      <td>No</td>\n",
       "      <td>Yes</td>\n",
       "      <td>Yes</td>\n",
       "      <td>No</td>\n",
       "      <td>No</td>\n",
       "      <td>Yes</td>\n",
       "      <td>No</td>\n",
       "      <td>Yes</td>\n",
       "      <td>No</td>\n",
       "      <td>Yes</td>\n",
       "      <td>Yes</td>\n",
       "      <td>No</td>\n",
       "      <td>Positive</td>\n",
       "    </tr>\n",
       "    <tr>\n",
       "      <th>3</th>\n",
       "      <td>45</td>\n",
       "      <td>Male</td>\n",
       "      <td>No</td>\n",
       "      <td>No</td>\n",
       "      <td>Yes</td>\n",
       "      <td>Yes</td>\n",
       "      <td>Yes</td>\n",
       "      <td>Yes</td>\n",
       "      <td>No</td>\n",
       "      <td>Yes</td>\n",
       "      <td>No</td>\n",
       "      <td>Yes</td>\n",
       "      <td>No</td>\n",
       "      <td>No</td>\n",
       "      <td>No</td>\n",
       "      <td>No</td>\n",
       "      <td>Positive</td>\n",
       "    </tr>\n",
       "    <tr>\n",
       "      <th>4</th>\n",
       "      <td>60</td>\n",
       "      <td>Male</td>\n",
       "      <td>Yes</td>\n",
       "      <td>Yes</td>\n",
       "      <td>Yes</td>\n",
       "      <td>Yes</td>\n",
       "      <td>Yes</td>\n",
       "      <td>No</td>\n",
       "      <td>Yes</td>\n",
       "      <td>Yes</td>\n",
       "      <td>Yes</td>\n",
       "      <td>Yes</td>\n",
       "      <td>Yes</td>\n",
       "      <td>Yes</td>\n",
       "      <td>Yes</td>\n",
       "      <td>Yes</td>\n",
       "      <td>Positive</td>\n",
       "    </tr>\n",
       "  </tbody>\n",
       "</table>\n",
       "</div>"
      ],
      "text/plain": [
       "   Age Gender Polyuria Polydipsia sudden weight loss weakness Polyphagia  \\\n",
       "0   40   Male       No        Yes                 No      Yes         No   \n",
       "1   58   Male       No         No                 No      Yes         No   \n",
       "2   41   Male      Yes         No                 No      Yes        Yes   \n",
       "3   45   Male       No         No                Yes      Yes        Yes   \n",
       "4   60   Male      Yes        Yes                Yes      Yes        Yes   \n",
       "\n",
       "  Genital thrush visual blurring Itching Irritability delayed healing  \\\n",
       "0             No              No     Yes           No             Yes   \n",
       "1             No             Yes      No           No              No   \n",
       "2             No              No     Yes           No             Yes   \n",
       "3            Yes              No     Yes           No             Yes   \n",
       "4             No             Yes     Yes          Yes             Yes   \n",
       "\n",
       "  partial paresis muscle stiffness Alopecia Obesity     class  \n",
       "0              No              Yes      Yes     Yes  Positive  \n",
       "1             Yes               No      Yes      No  Positive  \n",
       "2              No              Yes      Yes      No  Positive  \n",
       "3              No               No       No      No  Positive  \n",
       "4             Yes              Yes      Yes     Yes  Positive  "
      ]
     },
     "execution_count": 1,
     "metadata": {},
     "output_type": "execute_result"
    }
   ],
   "source": [
    "# Import necessary libraries\n",
    "import pandas as pd\n",
    "import numpy as np\n",
    "import matplotlib.pyplot as plt\n",
    "import seaborn as sns\n",
    "from sklearn.model_selection import train_test_split\n",
    "from sklearn.preprocessing import LabelEncoder, StandardScaler, MinMaxScaler\n",
    "from sklearn.metrics import  accuracy_score, f1_score, classification_report, precision_score, confusion_matrix, recall_score, roc_auc_score\n",
    "from sklearn.linear_model import LogisticRegression\n",
    "from sklearn.tree import DecisionTreeClassifier\n",
    "from sklearn.ensemble import RandomForestClassifier, GradientBoostingClassifier\n",
    "from xgboost import XGBClassifier\n",
    "from lightgbm import LGBMClassifier\n",
    "from sklearn.svm import SVC\n",
    "import joblib\n",
    "\n",
    "import warnings\n",
    "warnings.filterwarnings(\"ignore\")\n",
    "\n",
    "# Load dataset\n",
    "df = pd.read_csv(\"diabetes.csv\")\n",
    "\n",
    "# Display first few rows\n",
    "df.head()"
   ]
  },
  {
   "cell_type": "markdown",
   "metadata": {},
   "source": [
    "### **Step 2: Basic Data Exploration**\n",
    "Data exploration in ML is the process of examining our data to understand its structure, summary statistics, identify any missing values and visualize patterns before building a model."
   ]
  },
  {
   "cell_type": "code",
   "execution_count": 2,
   "metadata": {},
   "outputs": [
    {
     "name": "stdout",
     "output_type": "stream",
     "text": [
      "Dataset contains 520 rows and 17 columns.\n"
     ]
    }
   ],
   "source": [
    "# Check dataset shape\n",
    "print(f\"Dataset contains {df.shape[0]} rows and {df.shape[1]} columns.\")"
   ]
  },
  {
   "cell_type": "code",
   "execution_count": 4,
   "metadata": {},
   "outputs": [
    {
     "name": "stdout",
     "output_type": "stream",
     "text": [
      "Dataset contains Index(['Age', 'Gender', 'Polyuria', 'Polydipsia', 'sudden weight loss',\n",
      "       'weakness', 'Polyphagia', 'Genital thrush', 'visual blurring',\n",
      "       'Itching', 'Irritability', 'delayed healing', 'partial paresis',\n",
      "       'muscle stiffness', 'Alopecia', 'Obesity', 'class'],\n",
      "      dtype='object')\n"
     ]
    }
   ],
   "source": [
    "# Check dataset columns names\n",
    "print(f\"Dataset contains {df.columns}\")"
   ]
  },
  {
   "cell_type": "code",
   "execution_count": 5,
   "metadata": {},
   "outputs": [
    {
     "name": "stdout",
     "output_type": "stream",
     "text": [
      "<class 'pandas.core.frame.DataFrame'>\n",
      "RangeIndex: 520 entries, 0 to 519\n",
      "Data columns (total 17 columns):\n",
      " #   Column              Non-Null Count  Dtype \n",
      "---  ------              --------------  ----- \n",
      " 0   Age                 520 non-null    int64 \n",
      " 1   Gender              520 non-null    object\n",
      " 2   Polyuria            520 non-null    object\n",
      " 3   Polydipsia          520 non-null    object\n",
      " 4   sudden weight loss  520 non-null    object\n",
      " 5   weakness            520 non-null    object\n",
      " 6   Polyphagia          520 non-null    object\n",
      " 7   Genital thrush      520 non-null    object\n",
      " 8   visual blurring     520 non-null    object\n",
      " 9   Itching             520 non-null    object\n",
      " 10  Irritability        520 non-null    object\n",
      " 11  delayed healing     520 non-null    object\n",
      " 12  partial paresis     520 non-null    object\n",
      " 13  muscle stiffness    520 non-null    object\n",
      " 14  Alopecia            520 non-null    object\n",
      " 15  Obesity             520 non-null    object\n",
      " 16  class               520 non-null    object\n",
      "dtypes: int64(1), object(16)\n",
      "memory usage: 69.2+ KB\n",
      "None\n"
     ]
    }
   ],
   "source": [
    "# Check basic info\n",
    "print(df.info())"
   ]
  },
  {
   "cell_type": "code",
   "execution_count": null,
   "metadata": {},
   "outputs": [
    {
     "name": "stdout",
     "output_type": "stream",
     "text": [
      "Age                   0\n",
      "Gender                0\n",
      "Polyuria              0\n",
      "Polydipsia            0\n",
      "sudden weight loss    0\n",
      "weakness              0\n",
      "Polyphagia            0\n",
      "Genital thrush        0\n",
      "visual blurring       0\n",
      "Itching               0\n",
      "Irritability          0\n",
      "delayed healing       0\n",
      "partial paresis       0\n",
      "muscle stiffness      0\n",
      "Alopecia              0\n",
      "Obesity               0\n",
      "class                 0\n",
      "dtype: int64\n"
     ]
    }
   ],
   "source": [
    "# Check for missing values\n",
    "print(df.isnull().sum())"
   ]
  },
  {
   "cell_type": "code",
   "execution_count": 7,
   "metadata": {},
   "outputs": [
    {
     "name": "stdout",
     "output_type": "stream",
     "text": [
      "              Age\n",
      "count  520.000000\n",
      "mean    48.028846\n",
      "std     12.151466\n",
      "min     16.000000\n",
      "25%     39.000000\n",
      "50%     47.500000\n",
      "75%     57.000000\n",
      "max     90.000000\n"
     ]
    }
   ],
   "source": [
    "# Summary statistics\n",
    "print(df.describe())"
   ]
  },
  {
   "cell_type": "code",
   "execution_count": 8,
   "metadata": {},
   "outputs": [
    {
     "name": "stdout",
     "output_type": "stream",
     "text": [
      "Unique values in Gender: ['Male' 'Female']\n",
      "Unique values in Polyuria: ['No' 'Yes']\n",
      "Unique values in Polydipsia: ['Yes' 'No']\n",
      "Unique values in sudden weight loss: ['No' 'Yes']\n",
      "Unique values in weakness: ['Yes' 'No']\n",
      "Unique values in Polyphagia: ['No' 'Yes']\n",
      "Unique values in Genital thrush: ['No' 'Yes']\n",
      "Unique values in visual blurring: ['No' 'Yes']\n",
      "Unique values in Itching: ['Yes' 'No']\n",
      "Unique values in Irritability: ['No' 'Yes']\n",
      "Unique values in delayed healing: ['Yes' 'No']\n",
      "Unique values in partial paresis: ['No' 'Yes']\n",
      "Unique values in muscle stiffness: ['Yes' 'No']\n",
      "Unique values in Alopecia: ['Yes' 'No']\n",
      "Unique values in Obesity: ['Yes' 'No']\n",
      "Unique values in class: ['Positive' 'Negative']\n"
     ]
    }
   ],
   "source": [
    "# Check unique values in categorical columns\n",
    "for col in df.columns:\n",
    "    if df[col].dtype == 'object':\n",
    "        print(f\"Unique values in {col}: {df[col].unique()}\")"
   ]
  },
  {
   "cell_type": "code",
   "execution_count": 9,
   "metadata": {},
   "outputs": [
    {
     "data": {
      "image/png": "[encoded data removed]",
      "text/plain": [
       "<Figure size 640x480 with 1 Axes>"
      ]
     },
     "metadata": {},
     "output_type": "display_data"
    }
   ],
   "source": [
    "# Visualize the target variable distribution\n",
    "sns.countplot(x='class', data=df)\n",
    "plt.title('Distribution of Diabetes Classes')\n",
    "plt.show()"
   ]
  },
  {
   "cell_type": "markdown",
   "metadata": {},
   "source": [
    "### **Step 3: Advance Data Exploration using Exploratory Data Analysis(EDA)**\n",
    "Exploratory Data Analysis (EDA) is the process of looking at our data to understand main features like patterns, trends and anomalies, using charts and summary statistics before going to deeper analysis or building models."
   ]
  },
  {
   "cell_type": "markdown",
   "metadata": {},
   "source": [
    "#### **Distribution of Class Column (Target Variable)**"
   ]
  },
  {
   "cell_type": "code",
   "execution_count": 14,
   "metadata": {},
   "outputs": [
    {
     "data": {
      "image/png": "[encoded data removed]",
      "text/plain": [
       "<Figure size 640x480 with 1 Axes>"
      ]
     },
     "metadata": {},
     "output_type": "display_data"
    },
    {
     "data": {
      "image/png": "[encoded data removed]",
      "text/plain": [
       "<Figure size 1000x500 with 2 Axes>"
      ]
     },
     "metadata": {},
     "output_type": "display_data"
    }
   ],
   "source": [
    "# Countplot for target variable\n",
    "sns.countplot(x=df['class'], palette=\"coolwarm\")\n",
    "plt.title(\"Target Variable Distribution\")\n",
    "plt.show()\n",
    "\n",
    "# Pie chart and bar plot side by side\n",
    "plt.figure(figsize=(10, 5))\n",
    "\n",
    "# Pie Chart\n",
    "plt.subplot(1, 2, 1)\n",
    "df[\"class\"].value_counts().plot.pie(autopct=\"%1.0f%%\", colors=sns.color_palette(\"pastel\"), \n",
    "                                    labels=[\"Positive\", \"Negative\"], explode=[0.1, 0], shadow=True)\n",
    "plt.title(\"Class Distribution\")\n",
    "\n",
    "# Bar Plot\n",
    "plt.subplot(1, 2, 2)\n",
    "ax = df[\"class\"].value_counts().plot(kind=\"barh\", color=[\"skyblue\", \"salmon\"])\n",
    "for i, v in enumerate(df[\"class\"].value_counts()):\n",
    "    ax.text(v + 1, i, str(v), fontsize=12, fontweight=\"bold\")\n",
    "\n",
    "plt.title(\"Class Count\")\n",
    "plt.show()"
   ]
  },
  {
   "cell_type": "code",
   "execution_count": null,
   "metadata": {},
   "outputs": [],
   "source": []
  }
 ],
 "metadata": {
  "kernelspec": {
   "display_name": "Python 3",
   "language": "python",
   "name": "python3"
  },
  "language_info": {
   "codemirror_mode": {
    "name": "ipython",
    "version": 3
   },
   "file_extension": ".py",
   "mimetype": "text/x-python",
   "name": "python",
   "nbconvert_exporter": "python",
   "pygments_lexer": "ipython3",
   "version": "3.11.9"
  }
 },
 "nbformat": 4,
 "nbformat_minor": 2
}
